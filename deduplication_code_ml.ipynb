{
 "cells": [
  {
   "cell_type": "code",
   "execution_count": 1,
   "metadata": {
    "collapsed": true
   },
   "outputs": [],
   "source": [
    "import pandas as pd\n",
    "import numpy as np\n",
    "import os\n",
    "os.chdir('/home/ankushraut/Downloads/assignment')\n",
    "from sklearn.metrics import f1_score, accuracy_score"
   ]
  },
  {
   "cell_type": "code",
   "execution_count": 2,
   "metadata": {
    "collapsed": true
   },
   "outputs": [],
   "source": [
    "data = pd.read_csv('sample_input.csv')"
   ]
  },
  {
   "cell_type": "code",
   "execution_count": 3,
   "metadata": {},
   "outputs": [
    {
     "data": {
      "text/html": [
       "<div>\n",
       "<style>\n",
       "    .dataframe thead tr:only-child th {\n",
       "        text-align: right;\n",
       "    }\n",
       "\n",
       "    .dataframe thead th {\n",
       "        text-align: left;\n",
       "    }\n",
       "\n",
       "    .dataframe tbody tr th {\n",
       "        vertical-align: top;\n",
       "    }\n",
       "</style>\n",
       "<table border=\"1\" class=\"dataframe\">\n",
       "  <thead>\n",
       "    <tr style=\"text-align: right;\">\n",
       "      <th></th>\n",
       "      <th>ln</th>\n",
       "      <th>dob</th>\n",
       "      <th>gn</th>\n",
       "      <th>fn</th>\n",
       "      <th>is_duplicate</th>\n",
       "    </tr>\n",
       "  </thead>\n",
       "  <tbody>\n",
       "    <tr>\n",
       "      <th>0</th>\n",
       "      <td>SMITH JR</td>\n",
       "      <td>01/03/68</td>\n",
       "      <td>F</td>\n",
       "      <td>WILLIAM</td>\n",
       "      <td>0</td>\n",
       "    </tr>\n",
       "    <tr>\n",
       "      <th>1</th>\n",
       "      <td>ROTHMEYER JR</td>\n",
       "      <td>01/03/68</td>\n",
       "      <td>F</td>\n",
       "      <td>WILLIAM</td>\n",
       "      <td>0</td>\n",
       "    </tr>\n",
       "    <tr>\n",
       "      <th>2</th>\n",
       "      <td>ASBY JR</td>\n",
       "      <td>01/03/68</td>\n",
       "      <td>F</td>\n",
       "      <td>WILLIAM</td>\n",
       "      <td>0</td>\n",
       "    </tr>\n",
       "    <tr>\n",
       "      <th>3</th>\n",
       "      <td>SALTER JR</td>\n",
       "      <td>01/03/68</td>\n",
       "      <td>F</td>\n",
       "      <td>WILLIAM</td>\n",
       "      <td>0</td>\n",
       "    </tr>\n",
       "    <tr>\n",
       "      <th>4</th>\n",
       "      <td>SALTER JR</td>\n",
       "      <td>01/03/68</td>\n",
       "      <td>F</td>\n",
       "      <td>WILLIAM</td>\n",
       "      <td>1</td>\n",
       "    </tr>\n",
       "  </tbody>\n",
       "</table>\n",
       "</div>"
      ],
      "text/plain": [
       "             ln       dob gn       fn  is_duplicate\n",
       "0      SMITH JR  01/03/68  F  WILLIAM             0\n",
       "1  ROTHMEYER JR  01/03/68  F  WILLIAM             0\n",
       "2       ASBY JR  01/03/68  F  WILLIAM             0\n",
       "3     SALTER JR  01/03/68  F  WILLIAM             0\n",
       "4     SALTER JR  01/03/68  F  WILLIAM             1"
      ]
     },
     "execution_count": 3,
     "metadata": {},
     "output_type": "execute_result"
    }
   ],
   "source": [
    "data.head()"
   ]
  },
  {
   "cell_type": "markdown",
   "metadata": {},
   "source": [
    "#### The dob is converted to standard datetime format."
   ]
  },
  {
   "cell_type": "code",
   "execution_count": 4,
   "metadata": {
    "collapsed": true
   },
   "outputs": [],
   "source": [
    "data.dob = pd.to_datetime(data.dob)"
   ]
  },
  {
   "cell_type": "code",
   "execution_count": 5,
   "metadata": {},
   "outputs": [
    {
     "data": {
      "text/html": [
       "<div>\n",
       "<style>\n",
       "    .dataframe thead tr:only-child th {\n",
       "        text-align: right;\n",
       "    }\n",
       "\n",
       "    .dataframe thead th {\n",
       "        text-align: left;\n",
       "    }\n",
       "\n",
       "    .dataframe tbody tr th {\n",
       "        vertical-align: top;\n",
       "    }\n",
       "</style>\n",
       "<table border=\"1\" class=\"dataframe\">\n",
       "  <thead>\n",
       "    <tr style=\"text-align: right;\">\n",
       "      <th></th>\n",
       "      <th>ln</th>\n",
       "      <th>dob</th>\n",
       "      <th>gn</th>\n",
       "      <th>fn</th>\n",
       "      <th>is_duplicate</th>\n",
       "    </tr>\n",
       "  </thead>\n",
       "  <tbody>\n",
       "    <tr>\n",
       "      <th>0</th>\n",
       "      <td>SMITH JR</td>\n",
       "      <td>1968-01-03</td>\n",
       "      <td>F</td>\n",
       "      <td>WILLIAM</td>\n",
       "      <td>0</td>\n",
       "    </tr>\n",
       "    <tr>\n",
       "      <th>1</th>\n",
       "      <td>ROTHMEYER JR</td>\n",
       "      <td>1968-01-03</td>\n",
       "      <td>F</td>\n",
       "      <td>WILLIAM</td>\n",
       "      <td>0</td>\n",
       "    </tr>\n",
       "    <tr>\n",
       "      <th>2</th>\n",
       "      <td>ASBY JR</td>\n",
       "      <td>1968-01-03</td>\n",
       "      <td>F</td>\n",
       "      <td>WILLIAM</td>\n",
       "      <td>0</td>\n",
       "    </tr>\n",
       "    <tr>\n",
       "      <th>3</th>\n",
       "      <td>SALTER JR</td>\n",
       "      <td>1968-01-03</td>\n",
       "      <td>F</td>\n",
       "      <td>WILLIAM</td>\n",
       "      <td>0</td>\n",
       "    </tr>\n",
       "    <tr>\n",
       "      <th>4</th>\n",
       "      <td>SALTER JR</td>\n",
       "      <td>1968-01-03</td>\n",
       "      <td>F</td>\n",
       "      <td>WILLIAM</td>\n",
       "      <td>1</td>\n",
       "    </tr>\n",
       "  </tbody>\n",
       "</table>\n",
       "</div>"
      ],
      "text/plain": [
       "             ln        dob gn       fn  is_duplicate\n",
       "0      SMITH JR 1968-01-03  F  WILLIAM             0\n",
       "1  ROTHMEYER JR 1968-01-03  F  WILLIAM             0\n",
       "2       ASBY JR 1968-01-03  F  WILLIAM             0\n",
       "3     SALTER JR 1968-01-03  F  WILLIAM             0\n",
       "4     SALTER JR 1968-01-03  F  WILLIAM             1"
      ]
     },
     "execution_count": 5,
     "metadata": {},
     "output_type": "execute_result"
    }
   ],
   "source": [
    "data.head()"
   ]
  },
  {
   "cell_type": "code",
   "execution_count": 6,
   "metadata": {},
   "outputs": [
    {
     "data": {
      "text/plain": [
       "0   1968-01-03\n",
       "1   1968-01-03\n",
       "2   1968-01-03\n",
       "3   1968-01-03\n",
       "4   1968-01-03\n",
       "5   2062-02-21\n",
       "6   2062-02-21\n",
       "7   2062-02-21\n",
       "8   2062-02-21\n",
       "9   2062-02-21\n",
       "Name: dob, dtype: datetime64[ns]"
      ]
     },
     "execution_count": 6,
     "metadata": {},
     "output_type": "execute_result"
    }
   ],
   "source": [
    "data.dob.head(10)"
   ]
  },
  {
   "cell_type": "code",
   "execution_count": 7,
   "metadata": {
    "collapsed": true
   },
   "outputs": [],
   "source": [
    "data['name'] = data.fn + ' ' + data.ln"
   ]
  },
  {
   "cell_type": "code",
   "execution_count": 8,
   "metadata": {},
   "outputs": [
    {
     "data": {
      "text/html": [
       "<div>\n",
       "<style>\n",
       "    .dataframe thead tr:only-child th {\n",
       "        text-align: right;\n",
       "    }\n",
       "\n",
       "    .dataframe thead th {\n",
       "        text-align: left;\n",
       "    }\n",
       "\n",
       "    .dataframe tbody tr th {\n",
       "        vertical-align: top;\n",
       "    }\n",
       "</style>\n",
       "<table border=\"1\" class=\"dataframe\">\n",
       "  <thead>\n",
       "    <tr style=\"text-align: right;\">\n",
       "      <th></th>\n",
       "      <th>ln</th>\n",
       "      <th>dob</th>\n",
       "      <th>gn</th>\n",
       "      <th>fn</th>\n",
       "      <th>is_duplicate</th>\n",
       "      <th>name</th>\n",
       "    </tr>\n",
       "  </thead>\n",
       "  <tbody>\n",
       "    <tr>\n",
       "      <th>0</th>\n",
       "      <td>SMITH JR</td>\n",
       "      <td>1968-01-03</td>\n",
       "      <td>F</td>\n",
       "      <td>WILLIAM</td>\n",
       "      <td>0</td>\n",
       "      <td>WILLIAM SMITH JR</td>\n",
       "    </tr>\n",
       "    <tr>\n",
       "      <th>1</th>\n",
       "      <td>ROTHMEYER JR</td>\n",
       "      <td>1968-01-03</td>\n",
       "      <td>F</td>\n",
       "      <td>WILLIAM</td>\n",
       "      <td>0</td>\n",
       "      <td>WILLIAM ROTHMEYER JR</td>\n",
       "    </tr>\n",
       "    <tr>\n",
       "      <th>2</th>\n",
       "      <td>ASBY JR</td>\n",
       "      <td>1968-01-03</td>\n",
       "      <td>F</td>\n",
       "      <td>WILLIAM</td>\n",
       "      <td>0</td>\n",
       "      <td>WILLIAM ASBY JR</td>\n",
       "    </tr>\n",
       "    <tr>\n",
       "      <th>3</th>\n",
       "      <td>SALTER JR</td>\n",
       "      <td>1968-01-03</td>\n",
       "      <td>F</td>\n",
       "      <td>WILLIAM</td>\n",
       "      <td>0</td>\n",
       "      <td>WILLIAM SALTER JR</td>\n",
       "    </tr>\n",
       "    <tr>\n",
       "      <th>4</th>\n",
       "      <td>SALTER JR</td>\n",
       "      <td>1968-01-03</td>\n",
       "      <td>F</td>\n",
       "      <td>WILLIAM</td>\n",
       "      <td>1</td>\n",
       "      <td>WILLIAM SALTER JR</td>\n",
       "    </tr>\n",
       "  </tbody>\n",
       "</table>\n",
       "</div>"
      ],
      "text/plain": [
       "             ln        dob gn       fn  is_duplicate                  name\n",
       "0      SMITH JR 1968-01-03  F  WILLIAM             0      WILLIAM SMITH JR\n",
       "1  ROTHMEYER JR 1968-01-03  F  WILLIAM             0  WILLIAM ROTHMEYER JR\n",
       "2       ASBY JR 1968-01-03  F  WILLIAM             0       WILLIAM ASBY JR\n",
       "3     SALTER JR 1968-01-03  F  WILLIAM             0     WILLIAM SALTER JR\n",
       "4     SALTER JR 1968-01-03  F  WILLIAM             1     WILLIAM SALTER JR"
      ]
     },
     "execution_count": 8,
     "metadata": {},
     "output_type": "execute_result"
    }
   ],
   "source": [
    "data.head()"
   ]
  },
  {
   "cell_type": "markdown",
   "metadata": {},
   "source": [
    "#### A list of unique dates of birth and unique genders is obtained."
   ]
  },
  {
   "cell_type": "code",
   "execution_count": 9,
   "metadata": {
    "collapsed": true
   },
   "outputs": [],
   "source": [
    "unique_dob = data.dob.unique()\n",
    "unique_sex = data.gn.unique()"
   ]
  },
  {
   "cell_type": "code",
   "execution_count": 10,
   "metadata": {
    "collapsed": true
   },
   "outputs": [],
   "source": [
    "import distance"
   ]
  },
  {
   "cell_type": "markdown",
   "metadata": {},
   "source": [
    "#### Deduplication model function. This function learns by evaluating the Macro F1-score of classification on a passed range of values for maximum levenshtein score to classify an entry as duplicate."
   ]
  },
  {
   "cell_type": "code",
   "execution_count": 11,
   "metadata": {
    "collapsed": true
   },
   "outputs": [],
   "source": [
    "def deduplication_model(data, scoring_range = 10, step = 2):\n",
    "    data['indices'] = list(range(len(data)))\n",
    "    accuracy = []\n",
    "    index = []\n",
    "    final_step = 0\n",
    "    for value in range(scoring_range):\n",
    "        for i in unique_dob:\n",
    "            for j in unique_sex:\n",
    "                sample = data[(data.dob == i)][(data.gn == j)].reset_index(drop = True)\n",
    "                for a in range(len(sample)):\n",
    "                    comparison = sample[(sample.indices != sample.indices[a])].reset_index(drop = True)\n",
    "                    scores = [distance.levenshtein(sample.name[a], comparison.name[x]) for x in range(len(comparison))]\n",
    "                    compare = [comparison.indices[x] for x in range(len(comparison))]\n",
    "                    try:\n",
    "                        if sample.indices[a]>compare[scores.index(min(scores))]:\n",
    "                            score = np.min(scores)\n",
    "                            if score<=value:\n",
    "                                index.append(sample.indices[a])\n",
    "                    except ValueError:\n",
    "                        pass\n",
    "        prediction = []\n",
    "        for k in range(len(data)):\n",
    "            if data.indices[k] in index:\n",
    "                prediction.append(1)\n",
    "            else:\n",
    "                prediction.append(0)\n",
    "\n",
    "        data['prediction'] = prediction\n",
    "        print('F1-score after ',value, 'iterations : ', f1_score(data.is_duplicate, data.prediction, average = 'macro'))\n",
    "        accuracy.append(f1_score(data.is_duplicate, data.prediction, average = 'macro'))\n",
    "        if len(accuracy)>1 and accuracy[-1] <= accuracy[-2]:\n",
    "            final_step+=1\n",
    "        if final_step>=step:    \n",
    "            value = value-final_step\n",
    "            break\n",
    "    \n",
    "    index = []\n",
    "    for i in unique_dob:\n",
    "        for j in unique_sex:\n",
    "            sample = data[(data.dob == i)][(data.gn == j)].reset_index(drop = True)\n",
    "            for a in range(len(sample)):\n",
    "                comparison = sample[(sample.indices != sample.indices[a])].reset_index(drop = True)\n",
    "                scores = [distance.levenshtein(sample.name[a], comparison.name[x]) for x in range(len(comparison))]\n",
    "                compare = [comparison.indices[x] for x in range(len(comparison))]\n",
    "                try:\n",
    "                    if sample.indices[a]>compare[scores.index(min(scores))]:\n",
    "                        score = np.min(scores)\n",
    "                        if score<=value:\n",
    "                            index.append(sample.indices[a])\n",
    "                except ValueError:\n",
    "                    pass\n",
    "    prediction = []\n",
    "    for k in range(len(data)):\n",
    "        if data.indices[k] in index:\n",
    "            prediction.append(1)\n",
    "        else:\n",
    "            prediction.append(0)\n",
    "    return prediction, value"
   ]
  },
  {
   "cell_type": "code",
   "execution_count": 12,
   "metadata": {},
   "outputs": [
    {
     "name": "stderr",
     "output_type": "stream",
     "text": [
      "/home/ankushraut/anaconda3/lib/python3.6/site-packages/ipykernel_launcher.py:9: UserWarning: Boolean Series key will be reindexed to match DataFrame index.\n",
      "  if __name__ == '__main__':\n"
     ]
    },
    {
     "name": "stdout",
     "output_type": "stream",
     "text": [
      "F1-score after  0 iterations :  0.688036020583\n",
      "F1-score after  1 iterations :  0.679184892777\n",
      "F1-score after  2 iterations :  0.659214308528\n",
      "F1-score after  3 iterations :  0.670068027211\n",
      "F1-score after  4 iterations :  0.649447278912\n"
     ]
    },
    {
     "name": "stderr",
     "output_type": "stream",
     "text": [
      "/home/ankushraut/anaconda3/lib/python3.6/site-packages/ipykernel_launcher.py:40: UserWarning: Boolean Series key will be reindexed to match DataFrame index.\n"
     ]
    }
   ],
   "source": [
    "from sklearn.model_selection import train_test_split\n",
    "train, test = train_test_split(data, test_size = 0.05, stratify = data.is_duplicate, random_state = 0)\n",
    "train = train.reset_index(drop = True)\n",
    "test = test.reset_index(drop = True)\n",
    "performance, levenshtein_value_optimum = deduplication_model(train, scoring_range = 10, step = 3)"
   ]
  },
  {
   "cell_type": "code",
   "execution_count": 13,
   "metadata": {
    "collapsed": true
   },
   "outputs": [],
   "source": [
    "def deduplication_prediction(data, optimum_value):\n",
    "    data['indices'] = list(range(len(data)))\n",
    "    index = []\n",
    "    for i in unique_dob:\n",
    "        for j in unique_sex:\n",
    "            sample = data[(data.dob == i)][(data.gn == j)].reset_index(drop = True)\n",
    "            for a in range(len(sample)):\n",
    "                comparison = sample[(sample.indices != sample.indices[a])].reset_index(drop = True)\n",
    "                scores = [distance.levenshtein(sample.name[a], comparison.name[x]) for x in range(len(comparison))]\n",
    "                compare = [comparison.indices[x] for x in range(len(comparison))]\n",
    "                try:\n",
    "                    if sample.indices[a]>compare[scores.index(min(scores))]:\n",
    "                        score = np.min(scores)\n",
    "                        if score<=optimum_value:\n",
    "                            index.append(sample.indices[a])\n",
    "                except ValueError:\n",
    "                    pass\n",
    "    prediction = []\n",
    "    for k in range(len(data)):\n",
    "        if data.indices[k] in index:\n",
    "            prediction.append(1)\n",
    "        else:\n",
    "            prediction.append(0)\n",
    "    return prediction"
   ]
  },
  {
   "cell_type": "code",
   "execution_count": 14,
   "metadata": {},
   "outputs": [
    {
     "name": "stderr",
     "output_type": "stream",
     "text": [
      "/home/ankushraut/anaconda3/lib/python3.6/site-packages/ipykernel_launcher.py:6: UserWarning: Boolean Series key will be reindexed to match DataFrame index.\n",
      "  \n"
     ]
    }
   ],
   "source": [
    "predictions = deduplication_prediction(test, levenshtein_value_optimum)"
   ]
  },
  {
   "cell_type": "code",
   "execution_count": 15,
   "metadata": {},
   "outputs": [
    {
     "name": "stdout",
     "output_type": "stream",
     "text": [
      "F1-score on test set: 0.5\n"
     ]
    }
   ],
   "source": [
    "print('F1-score on test set:',accuracy_score(test.is_duplicate, predictions))"
   ]
  },
  {
   "cell_type": "code",
   "execution_count": 16,
   "metadata": {
    "collapsed": true
   },
   "outputs": [],
   "source": [
    "train['prediction'] = performance\n",
    "test['prediction'] = predictions\n",
    "dataset = pd.concat([train, test], axis = 0)\n",
    "dataset = dataset[(dataset.prediction != 1)].reset_index(drop = True).drop(labels = ['name', 'is_duplicate', 'prediction', 'indices'], axis = 1)"
   ]
  },
  {
   "cell_type": "code",
   "execution_count": 17,
   "metadata": {
    "collapsed": true
   },
   "outputs": [],
   "source": [
    "dataset.to_csv('Deduplicated_dataset.csv', index = False)"
   ]
  }
 ],
 "metadata": {
  "kernelspec": {
   "display_name": "Python 3",
   "language": "python",
   "name": "python3"
  },
  "language_info": {
   "codemirror_mode": {
    "name": "ipython",
    "version": 3
   },
   "file_extension": ".py",
   "mimetype": "text/x-python",
   "name": "python",
   "nbconvert_exporter": "python",
   "pygments_lexer": "ipython3",
   "version": "3.6.1"
  }
 },
 "nbformat": 4,
 "nbformat_minor": 2
}
